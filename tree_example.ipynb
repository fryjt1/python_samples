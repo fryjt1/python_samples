{
 "cells": [
  {
   "cell_type": "markdown",
   "metadata": {},
   "source": [
    "### Load Libraries"
   ]
  },
  {
   "cell_type": "code",
   "execution_count": 1,
   "metadata": {},
   "outputs": [],
   "source": [
    "import numpy as np\n",
    "import pandas as pd\n",
    "import matplotlib.pyplot as plt\n",
    "import seaborn as sns\n",
    "sns.set_style('whitegrid')\n",
    "\n",
    "from sklearn.tree import DecisionTreeClassifier, DecisionTreeRegressor\n",
    "from sklearn.linear_model import LogisticRegression\n",
    "from sklearn.neighbors import KNeighborsClassifier\n",
    "\n",
    "from sklearn.ensemble import VotingClassifier, BaggingClassifier, BaggingRegressor, RandomForestClassifier, RandomForestRegressor, \\\n",
    "                             AdaBoostClassifier, AdaBoostRegressor, GradientBoostingRegressor\n",
    "\n",
    "from sklearn.model_selection import train_test_split, cross_val_score, GridSearchCV\n",
    "from sklearn.metrics import accuracy_score,  roc_auc_score, mean_squared_error"
   ]
  },
  {
   "cell_type": "markdown",
   "metadata": {},
   "source": [
    "### Import Data"
   ]
  },
  {
   "cell_type": "code",
   "execution_count": 2,
   "metadata": {},
   "outputs": [
    {
     "data": {
      "text/html": [
       "<div>\n",
       "<style scoped>\n",
       "    .dataframe tbody tr th:only-of-type {\n",
       "        vertical-align: middle;\n",
       "    }\n",
       "\n",
       "    .dataframe tbody tr th {\n",
       "        vertical-align: top;\n",
       "    }\n",
       "\n",
       "    .dataframe thead th {\n",
       "        text-align: right;\n",
       "    }\n",
       "</style>\n",
       "<table border=\"1\" class=\"dataframe\">\n",
       "  <thead>\n",
       "    <tr style=\"text-align: right;\">\n",
       "      <th></th>\n",
       "      <th>Number</th>\n",
       "      <th>Type 1</th>\n",
       "      <th>Type 2</th>\n",
       "      <th>Total</th>\n",
       "      <th>HP</th>\n",
       "      <th>Attack</th>\n",
       "      <th>Defense</th>\n",
       "      <th>Spec_Attack</th>\n",
       "      <th>Spec_Def</th>\n",
       "      <th>Speed</th>\n",
       "      <th>Generation</th>\n",
       "      <th>Legendary</th>\n",
       "    </tr>\n",
       "    <tr>\n",
       "      <th>Name</th>\n",
       "      <th></th>\n",
       "      <th></th>\n",
       "      <th></th>\n",
       "      <th></th>\n",
       "      <th></th>\n",
       "      <th></th>\n",
       "      <th></th>\n",
       "      <th></th>\n",
       "      <th></th>\n",
       "      <th></th>\n",
       "      <th></th>\n",
       "      <th></th>\n",
       "    </tr>\n",
       "  </thead>\n",
       "  <tbody>\n",
       "    <tr>\n",
       "      <th>Bulbasaur</th>\n",
       "      <td>1</td>\n",
       "      <td>Grass</td>\n",
       "      <td>Poison</td>\n",
       "      <td>318</td>\n",
       "      <td>45</td>\n",
       "      <td>49</td>\n",
       "      <td>49</td>\n",
       "      <td>65</td>\n",
       "      <td>65</td>\n",
       "      <td>45</td>\n",
       "      <td>1</td>\n",
       "      <td>False</td>\n",
       "    </tr>\n",
       "    <tr>\n",
       "      <th>Ivysaur</th>\n",
       "      <td>2</td>\n",
       "      <td>Grass</td>\n",
       "      <td>Poison</td>\n",
       "      <td>405</td>\n",
       "      <td>60</td>\n",
       "      <td>62</td>\n",
       "      <td>63</td>\n",
       "      <td>80</td>\n",
       "      <td>80</td>\n",
       "      <td>60</td>\n",
       "      <td>1</td>\n",
       "      <td>False</td>\n",
       "    </tr>\n",
       "    <tr>\n",
       "      <th>Venusaur</th>\n",
       "      <td>3</td>\n",
       "      <td>Grass</td>\n",
       "      <td>Poison</td>\n",
       "      <td>525</td>\n",
       "      <td>80</td>\n",
       "      <td>82</td>\n",
       "      <td>83</td>\n",
       "      <td>100</td>\n",
       "      <td>100</td>\n",
       "      <td>80</td>\n",
       "      <td>1</td>\n",
       "      <td>False</td>\n",
       "    </tr>\n",
       "    <tr>\n",
       "      <th>VenusaurMega Venusaur</th>\n",
       "      <td>3</td>\n",
       "      <td>Grass</td>\n",
       "      <td>Poison</td>\n",
       "      <td>625</td>\n",
       "      <td>80</td>\n",
       "      <td>100</td>\n",
       "      <td>123</td>\n",
       "      <td>122</td>\n",
       "      <td>120</td>\n",
       "      <td>80</td>\n",
       "      <td>1</td>\n",
       "      <td>False</td>\n",
       "    </tr>\n",
       "    <tr>\n",
       "      <th>Charmander</th>\n",
       "      <td>4</td>\n",
       "      <td>Fire</td>\n",
       "      <td>None</td>\n",
       "      <td>309</td>\n",
       "      <td>39</td>\n",
       "      <td>52</td>\n",
       "      <td>43</td>\n",
       "      <td>60</td>\n",
       "      <td>50</td>\n",
       "      <td>65</td>\n",
       "      <td>1</td>\n",
       "      <td>False</td>\n",
       "    </tr>\n",
       "  </tbody>\n",
       "</table>\n",
       "</div>"
      ],
      "text/plain": [
       "                       Number Type 1  Type 2  Total  HP  Attack  Defense  \\\n",
       "Name                                                                       \n",
       "Bulbasaur                   1  Grass  Poison    318  45      49       49   \n",
       "Ivysaur                     2  Grass  Poison    405  60      62       63   \n",
       "Venusaur                    3  Grass  Poison    525  80      82       83   \n",
       "VenusaurMega Venusaur       3  Grass  Poison    625  80     100      123   \n",
       "Charmander                  4   Fire    None    309  39      52       43   \n",
       "\n",
       "                       Spec_Attack  Spec_Def  Speed  Generation  Legendary  \n",
       "Name                                                                        \n",
       "Bulbasaur                       65        65     45           1      False  \n",
       "Ivysaur                         80        80     60           1      False  \n",
       "Venusaur                       100       100     80           1      False  \n",
       "VenusaurMega Venusaur          122       120     80           1      False  \n",
       "Charmander                      60        50     65           1      False  "
      ]
     },
     "execution_count": 2,
     "metadata": {},
     "output_type": "execute_result"
    }
   ],
   "source": [
    "pokemon = pd.read_csv('/mnt/pokemon.csv')\n",
    "pokemon.set_index('Name',inplace = True)\n",
    "pokemon.loc[pokemon['Type 2'].isna(),'Type 2'] = \"None\"\n",
    "pokemon.head()"
   ]
  },
  {
   "cell_type": "markdown",
   "metadata": {},
   "source": [
    "### Decision Tree Classifier"
   ]
  },
  {
   "cell_type": "code",
   "execution_count": 3,
   "metadata": {},
   "outputs": [],
   "source": [
    "X = pokemon[['Type 1','Type 2','HP','Attack','Defense','Spec_Attack','Spec_Def','Speed','Generation']]\n",
    "y = pokemon['Legendary']\n",
    "\n",
    "X_design = pd.get_dummies(X,columns=['Type 1','Type 2','Generation']) \n",
    "X_design = X_design.drop(['Type 1_Normal','Type 2_Normal','Generation_1'],axis=1)\n",
    "\n",
    "X_train, X_test, y_train, y_test = train_test_split(X_design,y,test_size=.2,stratify=y,random_state=1)"
   ]
  },
  {
   "cell_type": "code",
   "execution_count": 5,
   "metadata": {},
   "outputs": [],
   "source": [
    "dt = DecisionTreeClassifier(max_depth=3,criterion='gini',random_state=1) # criterion = 'entropy'"
   ]
  },
  {
   "cell_type": "code",
   "execution_count": 6,
   "metadata": {},
   "outputs": [
    {
     "data": {
      "text/plain": [
       "0.925"
      ]
     },
     "execution_count": 6,
     "metadata": {},
     "output_type": "execute_result"
    }
   ],
   "source": [
    "dt.fit(X_train,y_train)\n",
    "y_pred = dt.predict(X_test)\n",
    "accuracy_score(y_test,y_pred)"
   ]
  },
  {
   "cell_type": "markdown",
   "metadata": {},
   "source": [
    "### Decision Tree Regression"
   ]
  },
  {
   "cell_type": "code",
   "execution_count": 53,
   "metadata": {},
   "outputs": [],
   "source": [
    "X = pokemon[['Type 1','Type 2','HP','Defense','Spec_Attack','Spec_Def','Speed','Generation','Legendary']]\n",
    "y = pokemon['Attack']\n",
    "\n",
    "X_design = pd.get_dummies(X,columns=['Type 1','Type 2','Generation']) \n",
    "X_design = X_design.drop(['Type 1_Normal','Type 2_Normal','Generation_1'],axis=1)\n",
    "\n",
    "X_train, X_test, y_train, y_test = train_test_split(X_design,y,test_size=.2,random_state=1)"
   ]
  },
  {
   "cell_type": "code",
   "execution_count": 54,
   "metadata": {},
   "outputs": [],
   "source": [
    "dt = DecisionTreeRegressor(max_depth=3,min_samples_leaf=0.1,random_state=1)"
   ]
  },
  {
   "cell_type": "code",
   "execution_count": 55,
   "metadata": {},
   "outputs": [
    {
     "name": "stdout",
     "output_type": "stream",
     "text": [
      "[673.40165674 936.71769571 703.23839807 576.94626542 786.61766717\n",
      " 666.47336672 600.38853979 630.9053765  709.87904017 962.22841395]\n",
      "724.6796420245254\n"
     ]
    }
   ],
   "source": [
    "MSE_CV = cross_val_score(dt,X_train,y_train,cv=10,scoring='neg_mean_squared_error') * (-1)\n",
    "print(MSE_CV)\n",
    "print(np.mean(MSE_CV))"
   ]
  },
  {
   "cell_type": "code",
   "execution_count": 56,
   "metadata": {},
   "outputs": [
    {
     "name": "stdout",
     "output_type": "stream",
     "text": [
      "Test Accuracy of CART: 25.961\n"
     ]
    }
   ],
   "source": [
    "dt.fit(X_train,y_train)\n",
    "y_train_pred = dt.predict(X_train)\n",
    "rmse_test = mean_squared_error(y_train,y_train_pred)**(.5) # CV error > training error --> fhat has high variance\n",
    "\n",
    "print('Test Accuracy of CART: {:.3f}'.format(rmse_test))"
   ]
  },
  {
   "cell_type": "markdown",
   "metadata": {},
   "source": [
    "### Building an Ensemble"
   ]
  },
  {
   "cell_type": "code",
   "execution_count": 24,
   "metadata": {},
   "outputs": [],
   "source": [
    "X = pokemon[['Type 1','Type 2','HP','Attack','Defense','Spec_Attack','Spec_Def','Speed','Generation']]\n",
    "y = pokemon['Legendary']\n",
    "\n",
    "X_design = pd.get_dummies(X,columns=['Type 1','Type 2','Generation']) \n",
    "X_design = X_design.drop(['Type 1_Normal','Type 2_Normal','Generation_1'],axis=1)\n",
    "\n",
    "X_train, X_test, y_train, y_test = train_test_split(X_design,y,test_size=.2,stratify=y,random_state=1)"
   ]
  },
  {
   "cell_type": "code",
   "execution_count": 30,
   "metadata": {},
   "outputs": [],
   "source": [
    "seed = 1\n",
    "lr = LogisticRegression(random_state=seed)\n",
    "knn = KNeighborsClassifier()\n",
    "dt = DecisionTreeClassifier(random_state=seed)\n",
    "\n",
    "classifiers = [('Logistic Regression',lr),('K Nearest Neighbors',knn),('CART',dt)]"
   ]
  },
  {
   "cell_type": "code",
   "execution_count": 31,
   "metadata": {},
   "outputs": [
    {
     "name": "stdout",
     "output_type": "stream",
     "text": [
      "Logistic Regression : 0.900\n",
      "K Nearest Neighbors : 0.925\n",
      "CART : 0.912\n"
     ]
    },
    {
     "name": "stderr",
     "output_type": "stream",
     "text": [
      "/usr/local/anaconda/lib/python3.6/site-packages/sklearn/linear_model/logistic.py:432: FutureWarning: Default solver will be changed to 'lbfgs' in 0.22. Specify a solver to silence this warning.\n",
      "  FutureWarning)\n"
     ]
    }
   ],
   "source": [
    "for clf_name, clf in classifiers:\n",
    "    clf.fit(X_train,y_train)\n",
    "    y_pred = clf.predict(X_test)\n",
    "    print('{:s} : {:.3f}'.format(clf_name,accuracy_score(y_test,y_pred)))"
   ]
  },
  {
   "cell_type": "code",
   "execution_count": 35,
   "metadata": {},
   "outputs": [
    {
     "name": "stdout",
     "output_type": "stream",
     "text": [
      "Voting Classifier: 0.912\n"
     ]
    },
    {
     "name": "stderr",
     "output_type": "stream",
     "text": [
      "/usr/local/anaconda/lib/python3.6/site-packages/sklearn/linear_model/logistic.py:432: FutureWarning: Default solver will be changed to 'lbfgs' in 0.22. Specify a solver to silence this warning.\n",
      "  FutureWarning)\n"
     ]
    }
   ],
   "source": [
    "vc = VotingClassifier(estimators = classifiers)\n",
    "vc.fit(X_train,y_train)\n",
    "y_pred = vc.predict(X_test)\n",
    "\n",
    "print('Voting Classifier: {:.3f}'.format(accuracy_score(y_test,y_pred)))"
   ]
  },
  {
   "cell_type": "markdown",
   "metadata": {},
   "source": [
    "### Bagging"
   ]
  },
  {
   "cell_type": "code",
   "execution_count": 37,
   "metadata": {},
   "outputs": [],
   "source": [
    "X = pokemon[['Type 1','Type 2','HP','Attack','Defense','Spec_Attack','Spec_Def','Speed','Generation']]\n",
    "y = pokemon['Legendary']\n",
    "\n",
    "X_design = pd.get_dummies(X,columns=['Type 1','Type 2','Generation']) \n",
    "X_design = X_design.drop(['Type 1_Normal','Type 2_Normal','Generation_1'],axis=1)\n",
    "\n",
    "X_train, X_test, y_train, y_test = train_test_split(X_design,y,test_size=.2,random_state=1)"
   ]
  },
  {
   "cell_type": "code",
   "execution_count": 44,
   "metadata": {},
   "outputs": [],
   "source": [
    "dt = DecisionTreeClassifier(max_depth=5,min_samples_leaf=.05,random_state=1)\n",
    "bc = BaggingClassifier(base_estimator=dt,n_estimators=300,oob_score=True)"
   ]
  },
  {
   "cell_type": "code",
   "execution_count": 45,
   "metadata": {},
   "outputs": [
    {
     "name": "stdout",
     "output_type": "stream",
     "text": [
      "OOB Accuracy of Bagging Classifier: 0.912\n",
      "Test Accuracy of Bagging Classifier: 0.887\n"
     ]
    }
   ],
   "source": [
    "bc.fit(X_train,y_train)\n",
    "y_pred = bc.predict(X_test)\n",
    "\n",
    "print('OOB Accuracy of Bagging Classifier: {:.3f}'.format(bc.oob_score_))\n",
    "print('Test Accuracy of Bagging Classifier: {:.3f}'.format(accuracy_score(y_test,y_pred)))"
   ]
  },
  {
   "cell_type": "markdown",
   "metadata": {},
   "source": [
    "### Random Forest"
   ]
  },
  {
   "cell_type": "code",
   "execution_count": 47,
   "metadata": {},
   "outputs": [],
   "source": [
    "X = pokemon[['Type 1','Type 2','HP','Defense','Spec_Attack','Spec_Def','Speed','Generation','Legendary']]\n",
    "y = pokemon['Attack']\n",
    "\n",
    "X_design = pd.get_dummies(X,columns=['Type 1','Type 2','Generation']) \n",
    "X_design = X_design.drop(['Type 1_Normal','Type 2_Normal','Generation_1'],axis=1)\n",
    "\n",
    "X_train, X_test, y_train, y_test = train_test_split(X_design,y,test_size=.2,random_state=1)"
   ]
  },
  {
   "cell_type": "code",
   "execution_count": 50,
   "metadata": {},
   "outputs": [
    {
     "name": "stdout",
     "output_type": "stream",
     "text": [
      "Test Accuracy of Random Forest: 21.863\n"
     ]
    }
   ],
   "source": [
    "rf = RandomForestRegressor(n_estimators=1000,min_samples_leaf=.05,random_state=1)\n",
    "rf.fit(X_train,y_train)\n",
    "y_pred = rf.predict(X_test)\n",
    "\n",
    "rmse_test = mean_squared_error(y_test,y_pred)**(.5)\n",
    "print('Test Accuracy of Random Forest: {:.3f}'.format(rmse_test))"
   ]
  },
  {
   "cell_type": "code",
   "execution_count": 74,
   "metadata": {},
   "outputs": [
    {
     "data": {
      "text/plain": [
       "<seaborn.axisgrid.FacetGrid at 0x7fce6386b748>"
      ]
     },
     "execution_count": 74,
     "metadata": {},
     "output_type": "execute_result"
    },
    {
     "data": {
      "image/png": "[encoded data removed]",
      "text/plain": [
       "<Figure size 360x360 with 1 Axes>"
      ]
     },
     "metadata": {},
     "output_type": "display_data"
    }
   ],
   "source": [
    "importances_rf = pd.DataFrame({'imp':rf.feature_importances_,'attribute':X_design.columns}).sort_values('imp',ascending=False)\n",
    "sns.catplot(data=importances_rf[importances_rf['imp']>0],x='imp',y='attribute',kind='bar')"
   ]
  },
  {
   "cell_type": "markdown",
   "metadata": {},
   "source": [
    "### Adaboost (Adaptive Boosting) Classification"
   ]
  },
  {
   "cell_type": "markdown",
   "metadata": {},
   "source": [
    "Fit initial model. The points that the model predicts the worst are upweighted and then a new sample is generated. "
   ]
  },
  {
   "cell_type": "code",
   "execution_count": 78,
   "metadata": {},
   "outputs": [],
   "source": [
    "X = pokemon[['Type 1','Type 2','HP','Attack','Defense','Spec_Attack','Spec_Def','Speed','Generation']]\n",
    "y = pokemon['Legendary']\n",
    "\n",
    "X_design = pd.get_dummies(X,columns=['Type 1','Type 2','Generation']) \n",
    "X_design = X_design.drop(['Type 1_Normal','Type 2_Normal','Generation_1'],axis=1)\n",
    "\n",
    "X_train, X_test, y_train, y_test = train_test_split(X_design,y,test_size=.2,stratify=y,random_state=1)"
   ]
  },
  {
   "cell_type": "code",
   "execution_count": 82,
   "metadata": {},
   "outputs": [],
   "source": [
    "dt = DecisionTreeClassifier(max_depth=1,random_state=1)\n",
    "adb_clf = AdaBoostClassifier(base_estimator=dt,n_estimators=100)"
   ]
  },
  {
   "cell_type": "code",
   "execution_count": 86,
   "metadata": {},
   "outputs": [
    {
     "name": "stdout",
     "output_type": "stream",
     "text": [
      "The accuracy of Adaboost is: 0.938\n",
      "The AUC of Adaboost is: 0.930\n"
     ]
    }
   ],
   "source": [
    "adb_clf.fit(X_train,y_train)\n",
    "y_pred_proba = adb_clf.predict_proba(X_test)[:,1]\n",
    "y_pred = adb_clf.predict(X_test)\n",
    "\n",
    "accuracy = accuracy_score(y_test,y_pred)\n",
    "auc = roc_auc_score(y_test,y_pred_proba)\n",
    "\n",
    "print('The accuracy of Adaboost is: {:.3f}'.format(accuracy))\n",
    "print('The AUC of Adaboost is: {:.3f}'.format(auc))"
   ]
  },
  {
   "cell_type": "markdown",
   "metadata": {},
   "source": [
    "### Gradient Boosting Regression"
   ]
  },
  {
   "cell_type": "markdown",
   "metadata": {},
   "source": [
    "An initial model is fit. Then, the next model uses the attributes to predict the first model's residuals. "
   ]
  },
  {
   "cell_type": "code",
   "execution_count": 89,
   "metadata": {},
   "outputs": [],
   "source": [
    "X = pokemon[['Type 1','Type 2','HP','Defense','Spec_Attack','Spec_Def','Speed','Generation','Legendary']]\n",
    "y = pokemon['Attack']\n",
    "\n",
    "X_design = pd.get_dummies(X,columns=['Type 1','Type 2','Generation']) \n",
    "X_design = X_design.drop(['Type 1_Normal','Type 2_Normal','Generation_1'],axis=1)\n",
    "\n",
    "X_train, X_test, y_train, y_test = train_test_split(X_design,y,test_size=.2,random_state=1)"
   ]
  },
  {
   "cell_type": "code",
   "execution_count": 90,
   "metadata": {},
   "outputs": [
    {
     "name": "stdout",
     "output_type": "stream",
     "text": [
      "The RMSE of Gradient Boosting Tree: 20.217\n"
     ]
    }
   ],
   "source": [
    "gbt = GradientBoostingRegressor(n_estimators=300,max_depth=1,random_state=1)\n",
    "gbt.fit(X_train,y_train)\n",
    "\n",
    "y_pred = gbt.predict(X_test)\n",
    "rmse_test = mean_squared_error(y_test,y_pred)**(.5)\n",
    "print('The RMSE of Gradient Boosting Tree: {:.3f}'.format(rmse_test))"
   ]
  },
  {
   "cell_type": "markdown",
   "metadata": {},
   "source": [
    "### Stochastic Gradient Boosting"
   ]
  },
  {
   "cell_type": "markdown",
   "metadata": {},
   "source": [
    "Each model is fit using a random subset (40%-80%) of the data, sampled without replacement."
   ]
  },
  {
   "cell_type": "code",
   "execution_count": null,
   "metadata": {},
   "outputs": [],
   "source": [
    "X = pokemon[['Type 1','Type 2','HP','Defense','Spec_Attack','Spec_Def','Speed','Generation','Legendary']]\n",
    "y = pokemon['Attack']\n",
    "\n",
    "X_design = pd.get_dummies(X,columns=['Type 1','Type 2','Generation']) \n",
    "X_design = X_design.drop(['Type 1_Normal','Type 2_Normal','Generation_1'],axis=1)\n",
    "\n",
    "X_train, X_test, y_train, y_test = train_test_split(X_design,y,test_size=.2,random_state=1)"
   ]
  },
  {
   "cell_type": "code",
   "execution_count": 92,
   "metadata": {},
   "outputs": [
    {
     "name": "stdout",
     "output_type": "stream",
     "text": [
      "The RMSE of Stochastic Gradient Boosting Tree: 20.047\n"
     ]
    }
   ],
   "source": [
    "sgbt = GradientBoostingRegressor(n_estimators=300,max_depth=1,subsample=.8,max_features=.2,random_state=1)\n",
    "sgbt.fit(X_train,y_train)\n",
    "\n",
    "y_pred = sgbt.predict(X_test)\n",
    "rmse_test = mean_squared_error(y_test,y_pred)**(.5)\n",
    "print('The RMSE of Stochastic Gradient Boosting Tree: {:.3f}'.format(rmse_test))"
   ]
  },
  {
   "cell_type": "markdown",
   "metadata": {},
   "source": [
    "### Tuning Hyperparameters for CART"
   ]
  },
  {
   "cell_type": "code",
   "execution_count": 93,
   "metadata": {},
   "outputs": [],
   "source": [
    "X = pokemon[['Type 1','Type 2','HP','Attack','Defense','Spec_Attack','Spec_Def','Speed','Generation']]\n",
    "y = pokemon['Legendary']\n",
    "\n",
    "X_design = pd.get_dummies(X,columns=['Type 1','Type 2','Generation']) \n",
    "X_design = X_design.drop(['Type 1_Normal','Type 2_Normal','Generation_1'],axis=1)\n",
    "\n",
    "X_train, X_test, y_train, y_test = train_test_split(X_design,y,test_size=.2,stratify=y,random_state=1)"
   ]
  },
  {
   "cell_type": "code",
   "execution_count": 95,
   "metadata": {},
   "outputs": [
    {
     "data": {
      "text/plain": [
       "{'class_weight': None,\n",
       " 'criterion': 'gini',\n",
       " 'max_depth': None,\n",
       " 'max_features': None,\n",
       " 'max_leaf_nodes': None,\n",
       " 'min_impurity_decrease': 0.0,\n",
       " 'min_impurity_split': None,\n",
       " 'min_samples_leaf': 1,\n",
       " 'min_samples_split': 2,\n",
       " 'min_weight_fraction_leaf': 0.0,\n",
       " 'presort': False,\n",
       " 'random_state': None,\n",
       " 'splitter': 'best'}"
      ]
     },
     "execution_count": 95,
     "metadata": {},
     "output_type": "execute_result"
    }
   ],
   "source": [
    "dt = DecisionTreeClassifier()\n",
    "dt.get_params()"
   ]
  },
  {
   "cell_type": "code",
   "execution_count": null,
   "metadata": {},
   "outputs": [],
   "source": [
    "params_dt = {'max_depth': [2,3,4,5,6,7,8,9,10],\n",
    "             'min_samples_leaf':[0.02,0.04,0.06,0.08,0.10],\n",
    "             'max_features':[0.2,0.4,0.6,0.8]}\n",
    "\n",
    "grid_dt = GridSearchCV(estimator=dt,param_grid=params_dt,cv=10)\n",
    "grid_dt.fit(X_train,y_train)"
   ]
  },
  {
   "cell_type": "code",
   "execution_count": 106,
   "metadata": {},
   "outputs": [
    {
     "name": "stdout",
     "output_type": "stream",
     "text": [
      "Optimal hyperparameters: \n",
      " {'max_depth': 6, 'max_features': 0.4, 'min_samples_leaf': 0.02}\n",
      "Optimal CV accuracy: 0.947\n"
     ]
    }
   ],
   "source": [
    "best_hyperparams = grid_dt.best_params_\n",
    "best_CV_score = grid_dt.best_score_\n",
    "print('Optimal hyperparameters: \\n',best_hyperparams)\n",
    "print('Optimal CV accuracy: {:.3f}'.format(best_CV_score))"
   ]
  },
  {
   "cell_type": "code",
   "execution_count": 109,
   "metadata": {},
   "outputs": [
    {
     "name": "stdout",
     "output_type": "stream",
     "text": [
      "Test accuracy of best model: 0.925\n"
     ]
    }
   ],
   "source": [
    "best_model = grid_dt.best_estimator_\n",
    "test_acc = best_model.score(X_test,y_test)\n",
    "print('Test accuracy of best model: {:.3f}'.format(test_acc))"
   ]
  },
  {
   "cell_type": "markdown",
   "metadata": {},
   "source": [
    "### Tune Hyperparameters for Random Forest"
   ]
  },
  {
   "cell_type": "code",
   "execution_count": 4,
   "metadata": {},
   "outputs": [],
   "source": [
    "X = pokemon[['Type 1','Type 2','HP','Defense','Spec_Attack','Spec_Def','Speed','Generation','Legendary']]\n",
    "y = pokemon['Attack']\n",
    "\n",
    "X_design = pd.get_dummies(X,columns=['Type 1','Type 2','Generation']) \n",
    "X_design = X_design.drop(['Type 1_Normal','Type 2_Normal','Generation_1'],axis=1)\n",
    "\n",
    "X_train, X_test, y_train, y_test = train_test_split(X_design,y,test_size=.2,random_state=1)"
   ]
  },
  {
   "cell_type": "code",
   "execution_count": 9,
   "metadata": {},
   "outputs": [
    {
     "data": {
      "text/plain": [
       "<bound method BaseEstimator.get_params of RandomForestRegressor(bootstrap=True, criterion='mse', max_depth=None,\n",
       "                      max_features='auto', max_leaf_nodes=None,\n",
       "                      min_impurity_decrease=0.0, min_impurity_split=None,\n",
       "                      min_samples_leaf=1, min_samples_split=2,\n",
       "                      min_weight_fraction_leaf=0.0, n_estimators='warn',\n",
       "                      n_jobs=None, oob_score=False, random_state=1, verbose=0,\n",
       "                      warm_start=False)>"
      ]
     },
     "execution_count": 9,
     "metadata": {},
     "output_type": "execute_result"
    }
   ],
   "source": [
    "rf = RandomForestRegressor(random_state=1)\n",
    "rf.get_params"
   ]
  },
  {
   "cell_type": "code",
   "execution_count": 11,
   "metadata": {},
   "outputs": [
    {
     "data": {
      "text/plain": [
       "GridSearchCV(cv=5, error_score='raise-deprecating',\n",
       "             estimator=RandomForestRegressor(bootstrap=True, criterion='mse',\n",
       "                                             max_depth=None,\n",
       "                                             max_features='auto',\n",
       "                                             max_leaf_nodes=None,\n",
       "                                             min_impurity_decrease=0.0,\n",
       "                                             min_impurity_split=None,\n",
       "                                             min_samples_leaf=1,\n",
       "                                             min_samples_split=2,\n",
       "                                             min_weight_fraction_leaf=0.0,\n",
       "                                             n_estimators='warn', n_jobs=None,\n",
       "                                             oob_score=False, random_state=1,\n",
       "                                             verbose=0, warm_start=False),\n",
       "             iid='warn', n_jobs=None,\n",
       "             param_grid={'max_depth': [4, 6, 8],\n",
       "                         'max_features': ['log2', 'sqrt'],\n",
       "                         'min_samples_leaf': [0.1, 0.2],\n",
       "                         'n_estimators': [300, 400, 500]},\n",
       "             pre_dispatch='2*n_jobs', refit=True, return_train_score=False,\n",
       "             scoring='neg_mean_squared_error', verbose=0)"
      ]
     },
     "execution_count": 11,
     "metadata": {},
     "output_type": "execute_result"
    }
   ],
   "source": [
    "params_rf = {'n_estimators':[300,400,500],\n",
    "             'max_depth':[4,6,8],\n",
    "             'min_samples_leaf':[0.1,0.2],\n",
    "             'max_features':['log2','sqrt']}\n",
    "grid_rf = GridSearchCV(estimator=rf,param_grid=params_rf,cv=5,scoring='neg_mean_squared_error')\n",
    "grid_rf.fit(X_train,y_train)"
   ]
  },
  {
   "cell_type": "code",
   "execution_count": 12,
   "metadata": {},
   "outputs": [
    {
     "name": "stdout",
     "output_type": "stream",
     "text": [
      "Best HPs for RF: \n",
      " {'max_depth': 4, 'max_features': 'sqrt', 'min_samples_leaf': 0.1, 'n_estimators': 400}\n",
      "Test set RMSE of RF: 25.813\n"
     ]
    }
   ],
   "source": [
    "best_hyperparams = grid_rf.best_params_\n",
    "best_model = grid_rf.best_estimator_\n",
    "y_pred = best_model.predict(X_test)\n",
    "rmse_test = mean_squared_error(y_test,y_pred)**(0.5)\n",
    "\n",
    "print('Best HPs for RF: \\n',best_hyperparams)\n",
    "print('Test set RMSE of RF: {:.3F}'.format(rmse_test))"
   ]
  },
  {
   "cell_type": "code",
   "execution_count": null,
   "metadata": {},
   "outputs": [],
   "source": []
  }
 ],
 "metadata": {
  "kernelspec": {
   "display_name": "Python 3",
   "language": "python",
   "name": "python3"
  },
  "language_info": {
   "codemirror_mode": {
    "name": "ipython",
    "version": 3
   },
   "file_extension": ".py",
   "mimetype": "text/x-python",
   "name": "python",
   "nbconvert_exporter": "python",
   "pygments_lexer": "ipython3",
   "version": "3.6.8"
  }
 },
 "nbformat": 4,
 "nbformat_minor": 2
}
